{
 "cells": [
  {
   "cell_type": "code",
   "execution_count": 33,
   "metadata": {},
   "outputs": [],
   "source": [
    "import numpy as np\n",
    "import pandas as pd\n",
    "import os"
   ]
  },
  {
   "cell_type": "code",
   "execution_count": 51,
   "metadata": {},
   "outputs": [],
   "source": [
    "os.chdir(\"/Users/ethan/Dev/PERFORM/Prescient/downloads/texas-7k/timeseries_data_files\")\n",
    "\n",
    "bus = pd.read_csv(\"/Users/ethan/Dev/PERFORM/Prescient/downloads/texas-7k/TEXAS-7K/TX_Data/SourceData/bus.csv\")\n",
    "lst = os.listdir()\n",
    "bus = bus.set_index(\"Bus ID\")\n",
    "\n",
    "with open('../sources_with_network.txt', 'w') as output:\n",
    "    for file in lst:\n",
    "        if(file[0] == \"B\"):\n",
    "            # print(bus.loc[int(file[4:10]), \"Sub Name\"])\n",
    "            output.write(\"Source({},\\n\".format(bus.loc[int(file[4:10]), \"Sub Name\"]))\n",
    "            output.write(\"source_type=\\\"load\\\",\\n\")\n",
    "            output.write(\"forecasts_file=\\\"timeseries_data_files/{}\\\",\\n\".format(file))\n",
    "            output.write(\"actuals_file=\\\"timeseries_data_files/{}\\\"\\n);\\n\\n\".format(file))\n",
    "        elif(file[0] == \"L\" or file[0] == \"P\" or file[0] == \"W\" or file[0] == 'd'):\n",
    "            continue\n",
    "        else:\n",
    "            if(file[6] == \"O\"):\n",
    "                output.write(\"Source({},\\n\".format(file[0:-22]))\n",
    "                output.write(\"source_type=\\\"wind\\\",\\n\")\n",
    "                output.write(\"forecasts_file=\\\"timeseries_data_files/{}\\\",\\n\".format(file))\n",
    "                output.write(\"actuals_file=\\\"timeseries_data_files/{}\\\",\\n\".format(file))\n",
    "                output.write(\"is_deterministic=\\\"True\\\",\\n\")\n",
    "                output.write(\"frac_nondispatch=\\\"1.000000\\\"\\n);\\n\\n\")\n",
    "            elif(file[6] == \"S\"):\n",
    "                output.write(\"Source({},\\n\".format(file[0:-22]))\n",
    "                output.write(\"source_type=\\\"solar\\\",\\n\")\n",
    "                output.write(\"forecasts_file=\\\"timeseries_data_files/{}\\\",\\n\".format(file))\n",
    "                output.write(\"actuals_file=\\\"timeseries_data_files/{}\\\",\\n\".format(file))\n",
    "                output.write(\"is_deterministic=\\\"True\\\",\\n\")\n",
    "                output.write(\"frac_nondispatch=\\\"1.000000\\\"\\n);\\n\\n\")"
   ]
  }
 ],
 "metadata": {
  "kernelspec": {
   "display_name": "Python 3",
   "language": "python",
   "name": "python3"
  },
  "language_info": {
   "codemirror_mode": {
    "name": "ipython",
    "version": 3
   },
   "file_extension": ".py",
   "mimetype": "text/x-python",
   "name": "python",
   "nbconvert_exporter": "python",
   "pygments_lexer": "ipython3",
   "version": "3.8.5"
  }
 },
 "nbformat": 4,
 "nbformat_minor": 4
}
