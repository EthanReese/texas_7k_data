{
 "cells": [
  {
   "cell_type": "code",
   "execution_count": 11,
   "metadata": {
    "scrolled": false
   },
   "outputs": [],
   "source": [
    "import pandas as pd\n",
    "import numpy as np\n",
    "gen = pd.read_csv(\"./TX_Data/SourceData/gen.csv\")\n",
    "#uc = pd.read_csv(\"/Users/ethan/Dev/PERFORM/Prescient/downloads/rts_gmlc/RTS-GMLC/RTS_Data/FormattedData/PLEXOS/PLEXOS_Solution/DAY_AHEAD Solution Files/noTX/PLEXOS_DA_solution_commitment.csv\", index_col='time')\n",
    "#uc.shape\n",
    "\n",
    "def calc_on_time(uc):\n",
    "    diff = uc.diff()\n",
    " \n",
    "    initial_state_dict = dict()\n",
    "    for col in diff.columns:\n",
    "        s = diff[col].dropna()\n",
    "        diff_s = s[s!=0]\n",
    "        if diff_s.empty:\n",
    "            check_row = uc[col].head(1)\n",
    "        else:\n",
    "            check_row = diff_s.tail(1)\n",
    " \n",
    "        if check_row.values == -1 or check_row.values == 0:\n",
    "            initial_state_dict[col] = -1 * (len(uc.index) - uc.index.get_loc(check_row.index[0]))\n",
    "        else:\n",
    "            initial_state_dict[col] = len(uc.index) - uc.index.get_loc(check_row.index[0])\n",
    "        #print(len(uc.index))\n",
    "        #print(uc.index.get_loc(check_row.index[0]))\n",
    "    \n",
    "    return(initial_state_dict)"
   ]
  },
  {
   "cell_type": "code",
   "execution_count": 25,
   "metadata": {},
   "outputs": [],
   "source": [
    "lst = []\n",
    "cols = gen['GEN UID'].tolist()\n",
    "# cols.insert(0, 'datetime')\n",
    "# go through the date range and assign half the assets to be on randomly, solar assets all on between 8am and 8pm\n",
    "for i in pd.date_range(start=\"2018-07-05\", end=\"2018-07-10\", freq=\"H\"):   \n",
    "    new_list = []\n",
    "    counter = 0\n",
    "    # select which generators are on\n",
    "    if(i.hour == 0):\n",
    "        gen_on = np.random.choice(2, size = len(gen[gen[\"Fuel\"]!=\"SUN (Solar)\"].index))\n",
    "    for asset in gen[\"Fuel\"]:\n",
    "        if(asset == \"SUN (Solar)\"):\n",
    "            if(i.hour >= 8 and i.hour <= 16):\n",
    "                new_list.append(1)\n",
    "            else:\n",
    "                new_list.append(0)\n",
    "        else:\n",
    "            if(gen_on[counter]):\n",
    "                new_list.append(1)\n",
    "            else:\n",
    "                new_list.append(0)\n",
    "            counter += 1\n",
    "    lst.append(new_list)\n",
    "       \n",
    "uc = pd.DataFrame(lst, columns = cols)\n",
    "#uc.set_index(\"datetime\")\n",
    "on_time = calc_on_time(uc)"
   ]
  },
  {
   "cell_type": "code",
   "execution_count": 26,
   "metadata": {},
   "outputs": [],
   "source": [
    "import csv\n",
    "\n",
    "with open('./TX_Data/FormattedData/PLEXOS/PLEXOS_Solution/DAY_AHEAD Solution Files/noTX/on_time_7.10.csv', 'w') as f:  # Just use 'w' mode in 3.x\n",
    "    w = csv.DictWriter(f, on_time.keys())\n",
    "    w.writeheader()\n",
    "    w.writerow(on_time)"
   ]
  }
 ],
 "metadata": {
  "kernelspec": {
   "display_name": "Python 3",
   "language": "python",
   "name": "python3"
  },
  "language_info": {
   "codemirror_mode": {
    "name": "ipython",
    "version": 3
   },
   "file_extension": ".py",
   "mimetype": "text/x-python",
   "name": "python",
   "nbconvert_exporter": "python",
   "pygments_lexer": "ipython3",
   "version": "3.8.5"
  }
 },
 "nbformat": 4,
 "nbformat_minor": 4
}
